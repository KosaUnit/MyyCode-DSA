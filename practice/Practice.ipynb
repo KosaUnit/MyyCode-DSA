{
 "cells": [
  {
   "cell_type": "markdown",
   "id": "de90b12d-894e-4294-926e-55d8fc0b1d38",
   "metadata": {
    "jp-MarkdownHeadingCollapsed": true
   },
   "source": [
    "# Binary Search"
   ]
  },
  {
   "cell_type": "markdown",
   "id": "ebb9219f-0f89-4990-a5a8-fa584ee821cd",
   "metadata": {},
   "source": [
    "- Provides efficient way to find a target value within a sorted array.\n",
    "- It repeatedly divides the search interval in half, which makes it far faster than a linear search for large datasets.\n",
    "\n",
    "Receipe:\n",
    "1. Prerequisite: The array must be sorted.\n",
    "2. Concept: We have two pointers, left and right, which represent the current search range.\n",
    "3. Midpoint Calculation: Calculate the middle index of the current range.\n",
    "4. Comparison:\n",
    "- If the element at mid equals the target, we’ve found the element, and we can return the index.\n",
    "- If the element at mid is less than the target, we move left to mid + 1, narrowing the search to the right half.\n",
    "- If the element at mid is greater than the target, we move right to mid - 1, narrowing the search to the left half.\n",
    "5. End Condition: Repeat until left exceeds right. If we haven’t found the target by then, it means the target is not in the array."
   ]
  },
  {
   "cell_type": "code",
   "execution_count": 8,
   "id": "e0365d28-99a5-48eb-b040-dcdff0ae7372",
   "metadata": {},
   "outputs": [],
   "source": [
    "def binary_search(arr, target):\n",
    "    # the arr has to be sorte \n",
    "    left = 0\n",
    "    right = len(arr)-1\n",
    "    \n",
    "    while left<=right:  \n",
    "        mid = (right-left)//2 + left\n",
    "    \n",
    "        if target==arr[mid]:\n",
    "            return mid\n",
    "        elif target<arr[mid]:\n",
    "            right = mid - 1 \n",
    "        else:\n",
    "            left = mid + 1 \n",
    "\n",
    "        \n",
    "    return \"Not in the list\"    "
   ]
  },
  {
   "cell_type": "code",
   "execution_count": 7,
   "id": "0789d705-b8a8-4648-bfd3-54ebedf354e3",
   "metadata": {},
   "outputs": [
    {
     "name": "stdout",
     "output_type": "stream",
     "text": [
      "Not in the list\n"
     ]
    }
   ],
   "source": [
    "arr = [1, 3, 5, 7, 9, 11, 13]\n",
    "\n",
    "# print(binary_search(arr, 7))   # Output should be 3\n",
    "print(binary_search(arr, 10))  # Output should be -1 (not found)"
   ]
  },
  {
   "cell_type": "markdown",
   "id": "2ed5606a-cf24-4fae-b5cc-f1580d3edcc5",
   "metadata": {
    "jp-MarkdownHeadingCollapsed": true
   },
   "source": [
    "# Bubble Sort"
   ]
  },
  {
   "cell_type": "markdown",
   "id": "b07f2bbb-c35c-41df-a145-68c6e82aacfb",
   "metadata": {},
   "source": [
    "1. Start with the first element and compare it to the next one.\n",
    "2. If the first element is larger than the next one (for ascending order), swap them.\n",
    "3. Move to the next pair of adjacent elements, and repeat the comparison and swap if needed.\n",
    "4. Continue this process until you reach the end of the list. At this point, the largest element will be in its correct position (at the end).\n",
    "5. Repeat steps 1-4 for the remaining unsorted part of the list (ignoring the last sorted elements).\n",
    "6. Continue until the list is fully sorted.\n",
    "\n",
    "Bubble Sort stops when it completes a pass without any swaps, which means the list is sorted."
   ]
  },
  {
   "cell_type": "code",
   "execution_count": 39,
   "id": "34115bb9-a035-4777-96c5-9d2be9738c03",
   "metadata": {},
   "outputs": [],
   "source": [
    "def BubbleSort(arr):\n",
    "    n = len(arr)\n",
    "    for i in range(n):\n",
    "        swapped = False\n",
    "        for ii in range(0, n-1-i): # Only loop through unsorted portion\n",
    "            if arr[ii] > arr[ii+1]:\n",
    "                arr[ii], arr[ii+1] = arr[ii+1], arr[ii]\n",
    "                swapped = True \n",
    "        if not swapped:\n",
    "            return arr"
   ]
  },
  {
   "cell_type": "code",
   "execution_count": 43,
   "id": "941070cc-43cb-4f76-af2f-e52783404df7",
   "metadata": {},
   "outputs": [
    {
     "name": "stderr",
     "output_type": "stream",
     "text": [
      "test_already_sorted_list (__main__.TestBubbleSort.test_already_sorted_list) ... ok\n",
      "test_basic_unsorted_list (__main__.TestBubbleSort.test_basic_unsorted_list) ... ok\n",
      "test_large_identical_elements (__main__.TestBubbleSort.test_large_identical_elements) ... ok\n",
      "test_large_random_list (__main__.TestBubbleSort.test_large_random_list) ... ok\n",
      "test_list_with_duplicates (__main__.TestBubbleSort.test_list_with_duplicates) ... ok\n",
      "test_reverse_sorted_list (__main__.TestBubbleSort.test_reverse_sorted_list) ... ok\n",
      "test_single_element_list (__main__.TestBubbleSort.test_single_element_list) ... ok\n",
      "\n",
      "----------------------------------------------------------------------\n",
      "Ran 7 tests in 0.011s\n",
      "\n",
      "OK\n"
     ]
    },
    {
     "data": {
      "text/plain": [
       "<unittest.main.TestProgram at 0x26a0cb09750>"
      ]
     },
     "execution_count": 43,
     "metadata": {},
     "output_type": "execute_result"
    }
   ],
   "source": [
    "import unittest\n",
    "\n",
    "class TestBubbleSort(unittest.TestCase):\n",
    "    \n",
    "    def test_basic_unsorted_list(self):\n",
    "        arr = [5, 3, 8, 4, 2]\n",
    "        expected = [2, 3, 4, 5, 8]\n",
    "        self.assertEqual(BubbleSort(arr), expected)\n",
    "        \n",
    "    def test_already_sorted_list(self):\n",
    "        arr = [1, 2, 3, 4, 5]\n",
    "        expected = [1, 2, 3, 4, 5]\n",
    "        self.assertEqual(BubbleSort(arr), expected)\n",
    "        \n",
    "    def test_reverse_sorted_list(self):\n",
    "        arr = [5, 4, 3, 2, 1]\n",
    "        expected = [1, 2, 3, 4, 5]\n",
    "        self.assertEqual(BubbleSort(arr), expected)\n",
    "        \n",
    "    def test_list_with_duplicates(self):\n",
    "        arr = [4, 3, 4, 1, 2]\n",
    "        expected = [1, 2, 3, 4, 4]\n",
    "        self.assertEqual(BubbleSort(arr), expected)\n",
    "        \n",
    "    def test_single_element_list(self):\n",
    "        arr = [42]\n",
    "        expected = [42]\n",
    "        self.assertEqual(BubbleSort(arr), expected)\n",
    "        \n",
    "    # def test_empty_list(self):\n",
    "    #     arr = []\n",
    "    #     expected = []\n",
    "    #     self.assertEqual(BubbleSort(arr), expected)\n",
    "        \n",
    "    def test_large_random_list(self):\n",
    "        import random\n",
    "        arr = random.sample(range(1, 100), 15)  # 15 unique random numbers from 1 to 100\n",
    "        expected = sorted(arr)  # Python's built-in sorted function for expected result\n",
    "        self.assertEqual(BubbleSort(arr), expected)\n",
    "\n",
    "    def test_large_identical_elements(self):\n",
    "        arr = [7] * 10  # List with 10 identical elements\n",
    "        expected = [7] * 10\n",
    "        self.assertEqual(BubbleSort(arr), expected)\n",
    "\n",
    "# Run the tests\n",
    "unittest.main(argv=[''], verbosity=2, exit=False)\n"
   ]
  },
  {
   "cell_type": "markdown",
   "id": "da5e13a0-1e9b-40c8-8de4-0cb2bd4d355a",
   "metadata": {
    "jp-MarkdownHeadingCollapsed": true
   },
   "source": [
    "# Insertion Sort"
   ]
  },
  {
   "cell_type": "markdown",
   "id": "25f63b4d-e1f2-47f6-96c5-4b06b39655e9",
   "metadata": {},
   "source": [
    "1. Start from the second element (since a single-element array is already sorted) and iterate through the array.\n",
    "2. Compare the current element with elements in the sorted portion to its left.\n",
    "3. Shift elements of the sorted portion to the right until the correct position for the current element is found.\n",
    "4. Insert the current element into its correct position.\n",
    "5. Repeat for all elements until the array is sorted."
   ]
  },
  {
   "cell_type": "code",
   "execution_count": 31,
   "id": "0005f384-079a-4059-a474-a42145b51a6e",
   "metadata": {},
   "outputs": [],
   "source": [
    "# it might be incorect \n",
    "\n",
    "def insertion_sort(arr):\n",
    "    for i in range(1, len(arr)):\n",
    "        j = i-1\n",
    "        while j>=0 and arr[i] < arr[j]:\n",
    "            arr[j], arr[i] = arr[i], arr[j]\n",
    "            j -= 1\n",
    "            i -= 1 \n",
    "            print(arr,i,j)\n",
    "    return arr"
   ]
  },
  {
   "cell_type": "code",
   "execution_count": 30,
   "id": "03b67931-bb22-4ec4-8d09-7068eb8323d8",
   "metadata": {},
   "outputs": [
    {
     "name": "stdout",
     "output_type": "stream",
     "text": [
      "[1, 3, 6, 9, 5, 7] 0 -1\n",
      "[1, 3, 6, 5, 9, 7] 3 2\n",
      "[1, 3, 5, 6, 9, 7] 2 1\n",
      "[1, 3, 5, 6, 7, 9] 4 3\n"
     ]
    },
    {
     "data": {
      "text/plain": [
       "[1, 3, 5, 6, 7, 9]"
      ]
     },
     "execution_count": 30,
     "metadata": {},
     "output_type": "execute_result"
    }
   ],
   "source": [
    "ar = [3, 1, 6, 9, 5, 7]\n",
    "\n",
    "insertion_sort(ar)"
   ]
  },
  {
   "cell_type": "markdown",
   "id": "41f1e663-1baf-4ab4-a458-a1f4aa0cd537",
   "metadata": {},
   "source": [
    "# Merge Sort"
   ]
  },
  {
   "cell_type": "markdown",
   "id": "3e729126-ba05-411a-b641-4e9adf99f503",
   "metadata": {},
   "source": [
    "The main idea behind Merge Sort is to break the array down into smaller sub-arrays until each sub-array has only one element (which is by definition sorted), and then merge these sub-arrays back together in the correct order.\n",
    "\n",
    "Here's a step-by-step explanation:\n",
    "\n",
    "1. Divide: Split the array into two halves.\n",
    "2. Conquer: Recursively sort each half.\n",
    "3. Combine: Merge the two sorted halves to form a single sorted array."
   ]
  },
  {
   "cell_type": "code",
   "execution_count": null,
   "id": "64645568-ec29-4acf-969a-c32858619069",
   "metadata": {},
   "outputs": [],
   "source": [
    "def mergeSort(arr):\n",
    "\n",
    "    arrLen = len(arr)\n",
    "    \n",
    "    if arrLen<=1:\n",
    "        return arr\n",
    "\n",
    "    left_half = arr[:arrLen]\n",
    "    right_half = arr[arrLen:]\n",
    "    mergeSort(left_half)\n",
    "    mergeSort(right_half)\n",
    "\n",
    "    return merge(left_half, right_half)\n",
    "\n",
    "def merge(leftArr, rightArr):\n",
    "    mArr = []\n",
    "    "
   ]
  },
  {
   "cell_type": "code",
   "execution_count": null,
   "id": "804c54c8-52f2-4eb1-81f1-b9f188e90853",
   "metadata": {},
   "outputs": [],
   "source": [
    "my_array = [64, 34, 25, 12, 22, 11, 90, 5]\n",
    "start = 0\n",
    "end = len(my_array)-1\n",
    "quick_sort(my_array, start, end)\n",
    "print(\"Sorted array:\", my_array)"
   ]
  },
  {
   "cell_type": "markdown",
   "id": "63bda9eb-0043-471d-be86-c276354f377d",
   "metadata": {
    "jp-MarkdownHeadingCollapsed": true
   },
   "source": [
    "# Quick Sort"
   ]
  },
  {
   "cell_type": "markdown",
   "id": "4ffe7239-137d-46e0-8ddd-ddd7bbfc705d",
   "metadata": {},
   "source": [
    "Quick Sort is a divide-and-conquer algorithm that sorts an array by partitioning it into two smaller sub-arrays:\n",
    "- Elements less than a chosen pivot element.\n",
    "- Elements greater than the pivot element.\n",
    "\n",
    "How Quick Sort Works\n",
    "Here's a step-by-step breakdown of the Quick Sort algorithm:\n",
    "\n",
    "1. Choose a Pivot Element:\n",
    "<br>\n",
    "The pivot can be any element in the array. Common strategies include picking the first element, the last element, a random element, or the median. <br>\n",
    "3. Partition the Array:\n",
    "<br> Rearrange the array such that all elements less than the pivot are on the left, and all elements greater than the pivot are on the right. The pivot element is then placed in its correct sorted position. <br>\n",
    "5. Recursively Apply Quick Sort:\n",
    "<br> Apply Quick Sort to the left sub-array (elements less than the pivot) and the right sub-array (elements greater than the pivot). <br>\n"
   ]
  },
  {
   "cell_type": "code",
   "execution_count": 24,
   "id": "be8823d5-5ab8-44e5-a0fb-554fa92fa9ca",
   "metadata": {},
   "outputs": [],
   "source": [
    "# Simple - Without repetition\n",
    "\n",
    "def quick_sort(arr):\n",
    "\n",
    "    if len(arr) <= 1:\n",
    "        return arr\n",
    "\n",
    "    pivot = arr[-1]\n",
    "\n",
    "    left = [x for x in arr if x<pivot]\n",
    "    right = [x for x in arr if x>pivot]\n",
    "\n",
    "    return quick_sort(left) + [pivot] + quick_sort(right)"
   ]
  },
  {
   "cell_type": "code",
   "execution_count": 34,
   "id": "22b5a90f-c819-4fb5-9291-3e259762ecfa",
   "metadata": {},
   "outputs": [],
   "source": [
    "# more complicated but more efficent\n",
    "\n",
    "def parition(arr, start, end):\n",
    "    # choose the right most element\n",
    "    pivot = arr[end]\n",
    "\n",
    "    # 'i' is used as a boundary pointer to separate elements that are less than or equal to the pivot from those that are greater.\n",
    "    # We start `i` at `low - 1`\n",
    "    # This is because, initially, no elements have been found that are less than or equal to the pivot, so 'i' points to a position before the low index.\n",
    "    i = start-1\n",
    "\n",
    "    # Loop through each element from `low` to `high - 1`\n",
    "    \n",
    "    # This loop goes by all elements of the array. \n",
    "    # If the current element is equal or lower than the pivot element we increase 'i'.\n",
    "        # 'i' is the pointer which points to the last element in the array we loop which points to ' < pivot'\n",
    "    # Else 'i' is still pointing to the element lower than pivot\n",
    "    # Than if we find later the element <= pivot \n",
    "    # we swap it with the next element higher than 'i'\n",
    "    # and we continue \n",
    "    for j in range(start, end):\n",
    "        \n",
    "        # If the current element `array[j]` is less than or equal to the pivot\n",
    "        # it should be on the left side of the pivot. \n",
    "        if arr[j] <= pivot:\n",
    "            i += 1 \n",
    "            # print('Before swap', arr, i, j, arr[j], arr[i])\n",
    "            (arr[i], arr[j]) = (arr[j], arr[i])\n",
    "            # print('After swap', arr, i, j, arr[j], arr[i])\n",
    "\n",
    "    # At the end we swap the pivot element with the first element of the array larger than pivot element \n",
    "    (arr[i + 1], arr[end]) = (arr[end], arr[i + 1])\n",
    "    # print('\\n', arr)\n",
    "    # we return the spot of the change \n",
    "    return i+1\n",
    "\n",
    "def quick_sort(arr, start, end):\n",
    "    \n",
    "    if start<end:\n",
    "        \n",
    "        pivot = parition(arr, start, end)\n",
    "        print(arr)\n",
    "        quick_sort(arr, start, pivot-1)\n",
    "        quick_sort(arr, pivot+1, end)\n"
   ]
  },
  {
   "cell_type": "code",
   "execution_count": 35,
   "id": "64844abe-6ff9-4b03-864f-c28758a99fd5",
   "metadata": {},
   "outputs": [
    {
     "name": "stdout",
     "output_type": "stream",
     "text": [
      "[5, 34, 25, 12, 22, 11, 90, 64]\n",
      "[5, 34, 25, 12, 22, 11, 64, 90]\n",
      "[5, 11, 25, 12, 22, 34, 64, 90]\n",
      "[5, 11, 25, 12, 22, 34, 64, 90]\n",
      "[5, 11, 12, 22, 25, 34, 64, 90]\n",
      "Sorted array: [5, 11, 12, 22, 25, 34, 64, 90]\n"
     ]
    }
   ],
   "source": [
    "my_array = [64, 34, 25, 12, 22, 11, 90, 5]\n",
    "start = 0\n",
    "end = len(my_array)-1\n",
    "quick_sort(my_array, start, end)\n",
    "print(\"Sorted array:\", my_array)"
   ]
  },
  {
   "cell_type": "code",
   "execution_count": null,
   "id": "2485b0d1-65f8-4ce4-97ce-84bc303e2d05",
   "metadata": {},
   "outputs": [],
   "source": []
  },
  {
   "cell_type": "code",
   "execution_count": 44,
   "id": "518f04ee-4697-4dff-95c4-293166cddf6c",
   "metadata": {},
   "outputs": [],
   "source": [
    "def particion(arr, start, end):\n",
    "    pivot = arr[end]\n",
    "    i = start-1\n",
    "    for j in range(start, end):\n",
    "        if arr[j]<pivot:\n",
    "            i += 1 \n",
    "            arr[j], arr[i] = arr[i], arr[j]\n",
    "        arr[i+1], pivot = pivot, arr[i+1]\n",
    "        return i+1\n",
    "\n",
    "def QuickSort(arr, start, end):\n",
    "    if start<end:\n",
    "        pivot = parition(start, end)\n",
    "        QuickSort(arr, start, pivot-1)\n",
    "        QuickSort(arr, pivot+1, end)"
   ]
  },
  {
   "cell_type": "code",
   "execution_count": 47,
   "id": "1bbba113-8a98-4af4-8cd8-88e0e241eef3",
   "metadata": {},
   "outputs": [
    {
     "name": "stdout",
     "output_type": "stream",
     "text": [
      "[ 9 44 44  9 21 10 13 46 66 86 53 98 74 77 72 79 52 78 84 70]\n",
      "[ 9  9 10 13 21 44 44 46 66 86 53 98 74 77 72 79 52 78 84 70]\n",
      "[ 9  9 10 13 21 44 44 46 66 86 53 98 74 77 72 79 52 78 84 70]\n",
      "[ 9  9 10 13 21 44 44 46 66 86 53 98 74 77 72 79 52 78 84 70]\n",
      "[ 9  9 10 13 21 44 44 46 66 86 53 98 74 77 72 79 52 78 84 70]\n",
      "[ 9  9 10 13 21 44 44 46 66 86 53 98 74 77 72 79 52 78 84 70]\n",
      "[ 9  9 10 13 21 44 44 46 66 53 52 70 74 77 72 79 86 78 84 98]\n",
      "[ 9  9 10 13 21 44 44 46 52 53 66 70 74 77 72 79 86 78 84 98]\n",
      "[ 9  9 10 13 21 44 44 46 52 53 66 70 74 77 72 79 86 78 84 98]\n",
      "[ 9  9 10 13 21 44 44 46 52 53 66 70 74 77 72 79 86 78 84 98]\n",
      "[ 9  9 10 13 21 44 44 46 52 53 66 70 74 77 72 79 78 84 86 98]\n",
      "[ 9  9 10 13 21 44 44 46 52 53 66 70 74 77 72 78 79 84 86 98]\n",
      "[ 9  9 10 13 21 44 44 46 52 53 66 70 72 77 74 78 79 84 86 98]\n",
      "[ 9  9 10 13 21 44 44 46 52 53 66 70 72 74 77 78 79 84 86 98]\n",
      "Sorted array: [ 9  9 10 13 21 44 44 46 52 53 66 70 72 74 77 78 79 84 86 98]\n"
     ]
    }
   ],
   "source": [
    "# Generating a list of 20 random integers between 1 and 100 using numpy's randint function\n",
    "import numpy as np\n",
    "\n",
    "my_array = np.random.default_rng(seed=42).integers(1, 101, size=20)\n",
    "sorted_array = sorted(my_array)\n",
    "start = 0\n",
    "end = len(my_array)-1\n",
    "quick_sort(my_array, start, end)\n",
    "print(\"Sorted array:\", my_array)"
   ]
  },
  {
   "cell_type": "code",
   "execution_count": null,
   "id": "364f7c3d-d5e2-4d5c-b94b-c09290151fd9",
   "metadata": {},
   "outputs": [],
   "source": []
  }
 ],
 "metadata": {
  "kernelspec": {
   "display_name": "Python 3 (ipykernel)",
   "language": "python",
   "name": "python3"
  },
  "language_info": {
   "codemirror_mode": {
    "name": "ipython",
    "version": 3
   },
   "file_extension": ".py",
   "mimetype": "text/x-python",
   "name": "python",
   "nbconvert_exporter": "python",
   "pygments_lexer": "ipython3",
   "version": "3.11.0"
  }
 },
 "nbformat": 4,
 "nbformat_minor": 5
}
