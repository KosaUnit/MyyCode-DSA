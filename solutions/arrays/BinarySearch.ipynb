{
 "cells": [
  {
   "cell_type": "markdown",
   "id": "de90b12d-894e-4294-926e-55d8fc0b1d38",
   "metadata": {
    "jp-MarkdownHeadingCollapsed": true
   },
   "source": [
    "# Binary Search"
   ]
  },
  {
   "cell_type": "markdown",
   "id": "ebb9219f-0f89-4990-a5a8-fa584ee821cd",
   "metadata": {},
   "source": [
    "- Provides efficient way to find a target value within a sorted array.\n",
    "- It repeatedly divides the search interval in half, which makes it far faster than a linear search for large datasets.\n",
    "\n",
    "Receipe:\n",
    "1. Prerequisite: The array must be sorted.\n",
    "2. Concept: We have two pointers, left and right, which represent the current search range.\n",
    "3. Midpoint Calculation: Calculate the middle index of the current range.\n",
    "4. Comparison:\n",
    "- If the element at mid equals the target, we’ve found the element, and we can return the index.\n",
    "- If the element at mid is less than the target, we move left to mid + 1, narrowing the search to the right half.\n",
    "- If the element at mid is greater than the target, we move right to mid - 1, narrowing the search to the left half.\n",
    "5. End Condition: Repeat until left exceeds right. If we haven’t found the target by then, it means the target is not in the array."
   ]
  },
  {
   "cell_type": "code",
   "execution_count": 8,
   "id": "e0365d28-99a5-48eb-b040-dcdff0ae7372",
   "metadata": {},
   "outputs": [],
   "source": [
    "def binary_search(arr, target):\n",
    "    # the arr has to be sorte \n",
    "    left = 0\n",
    "    right = len(arr)-1\n",
    "    \n",
    "    while left<=right:  \n",
    "        mid = (right-left)//2 + left\n",
    "    \n",
    "        if target==arr[mid]:\n",
    "            return mid\n",
    "        elif target<arr[mid]:\n",
    "            right = mid - 1 \n",
    "        else:\n",
    "            left = mid + 1 \n",
    "\n",
    "        \n",
    "    return \"Not in the list\"    "
   ]
  },
  {
   "cell_type": "code",
   "execution_count": 7,
   "id": "0789d705-b8a8-4648-bfd3-54ebedf354e3",
   "metadata": {},
   "outputs": [
    {
     "name": "stdout",
     "output_type": "stream",
     "text": [
      "Not in the list\n"
     ]
    }
   ],
   "source": [
    "arr = [1, 3, 5, 7, 9, 11, 13]\n",
    "\n",
    "# print(binary_search(arr, 7))   # Output should be 3\n",
    "print(binary_search(arr, 10))  # Output should be -1 (not found)"
   ]
  },
  {
   "cell_type": "markdown",
   "id": "2ed5606a-cf24-4fae-b5cc-f1580d3edcc5",
   "metadata": {},
   "source": [
    "# Bubble Sort"
   ]
  },
  {
   "cell_type": "markdown",
   "id": "b07f2bbb-c35c-41df-a145-68c6e82aacfb",
   "metadata": {},
   "source": [
    "1. Start with the first element and compare it to the next one.\n",
    "2. If the first element is larger than the next one (for ascending order), swap them.\n",
    "3. Move to the next pair of adjacent elements, and repeat the comparison and swap if needed.\n",
    "4. Continue this process until you reach the end of the list. At this point, the largest element will be in its correct position (at the end).\n",
    "5. Repeat steps 1-4 for the remaining unsorted part of the list (ignoring the last sorted elements).\n",
    "6. Continue until the list is fully sorted.\n",
    "\n",
    "Bubble Sort stops when it completes a pass without any swaps, which means the list is sorted."
   ]
  },
  {
   "cell_type": "code",
   "execution_count": 39,
   "id": "34115bb9-a035-4777-96c5-9d2be9738c03",
   "metadata": {},
   "outputs": [],
   "source": [
    "def BubbleSort(arr):\n",
    "    n = len(arr)\n",
    "    for i in range(n):\n",
    "        swapped = False\n",
    "        for ii in range(0, n-1-i): # Only loop through unsorted portion\n",
    "            if arr[ii] > arr[ii+1]:\n",
    "                arr[ii], arr[ii+1] = arr[ii+1], arr[ii]\n",
    "                swapped = True \n",
    "        if not swapped:\n",
    "            return arr"
   ]
  },
  {
   "cell_type": "code",
   "execution_count": 43,
   "id": "941070cc-43cb-4f76-af2f-e52783404df7",
   "metadata": {},
   "outputs": [
    {
     "name": "stderr",
     "output_type": "stream",
     "text": [
      "test_already_sorted_list (__main__.TestBubbleSort.test_already_sorted_list) ... ok\n",
      "test_basic_unsorted_list (__main__.TestBubbleSort.test_basic_unsorted_list) ... ok\n",
      "test_large_identical_elements (__main__.TestBubbleSort.test_large_identical_elements) ... ok\n",
      "test_large_random_list (__main__.TestBubbleSort.test_large_random_list) ... ok\n",
      "test_list_with_duplicates (__main__.TestBubbleSort.test_list_with_duplicates) ... ok\n",
      "test_reverse_sorted_list (__main__.TestBubbleSort.test_reverse_sorted_list) ... ok\n",
      "test_single_element_list (__main__.TestBubbleSort.test_single_element_list) ... ok\n",
      "\n",
      "----------------------------------------------------------------------\n",
      "Ran 7 tests in 0.011s\n",
      "\n",
      "OK\n"
     ]
    },
    {
     "data": {
      "text/plain": [
       "<unittest.main.TestProgram at 0x26a0cb09750>"
      ]
     },
     "execution_count": 43,
     "metadata": {},
     "output_type": "execute_result"
    }
   ],
   "source": [
    "import unittest\n",
    "\n",
    "class TestBubbleSort(unittest.TestCase):\n",
    "    \n",
    "    def test_basic_unsorted_list(self):\n",
    "        arr = [5, 3, 8, 4, 2]\n",
    "        expected = [2, 3, 4, 5, 8]\n",
    "        self.assertEqual(BubbleSort(arr), expected)\n",
    "        \n",
    "    def test_already_sorted_list(self):\n",
    "        arr = [1, 2, 3, 4, 5]\n",
    "        expected = [1, 2, 3, 4, 5]\n",
    "        self.assertEqual(BubbleSort(arr), expected)\n",
    "        \n",
    "    def test_reverse_sorted_list(self):\n",
    "        arr = [5, 4, 3, 2, 1]\n",
    "        expected = [1, 2, 3, 4, 5]\n",
    "        self.assertEqual(BubbleSort(arr), expected)\n",
    "        \n",
    "    def test_list_with_duplicates(self):\n",
    "        arr = [4, 3, 4, 1, 2]\n",
    "        expected = [1, 2, 3, 4, 4]\n",
    "        self.assertEqual(BubbleSort(arr), expected)\n",
    "        \n",
    "    def test_single_element_list(self):\n",
    "        arr = [42]\n",
    "        expected = [42]\n",
    "        self.assertEqual(BubbleSort(arr), expected)\n",
    "        \n",
    "    # def test_empty_list(self):\n",
    "    #     arr = []\n",
    "    #     expected = []\n",
    "    #     self.assertEqual(BubbleSort(arr), expected)\n",
    "        \n",
    "    def test_large_random_list(self):\n",
    "        import random\n",
    "        arr = random.sample(range(1, 100), 15)  # 15 unique random numbers from 1 to 100\n",
    "        expected = sorted(arr)  # Python's built-in sorted function for expected result\n",
    "        self.assertEqual(BubbleSort(arr), expected)\n",
    "\n",
    "    def test_large_identical_elements(self):\n",
    "        arr = [7] * 10  # List with 10 identical elements\n",
    "        expected = [7] * 10\n",
    "        self.assertEqual(BubbleSort(arr), expected)\n",
    "\n",
    "# Run the tests\n",
    "unittest.main(argv=[''], verbosity=2, exit=False)\n"
   ]
  },
  {
   "cell_type": "markdown",
   "id": "2e7c293d-763d-4391-b362-94cd36c56fea",
   "metadata": {},
   "source": [
    "# Selection Sort"
   ]
  },
  {
   "cell_type": "markdown",
   "id": "da5e13a0-1e9b-40c8-8de4-0cb2bd4d355a",
   "metadata": {},
   "source": [
    "# Insertion Sort"
   ]
  },
  {
   "cell_type": "markdown",
   "id": "41f1e663-1baf-4ab4-a458-a1f4aa0cd537",
   "metadata": {},
   "source": [
    "# Merge Sort"
   ]
  },
  {
   "cell_type": "markdown",
   "id": "63bda9eb-0043-471d-be86-c276354f377d",
   "metadata": {},
   "source": [
    "# Quick Sort"
   ]
  },
  {
   "cell_type": "code",
   "execution_count": null,
   "id": "1c89259b-0af1-4864-bc56-921b3e55bc37",
   "metadata": {},
   "outputs": [],
   "source": []
  }
 ],
 "metadata": {
  "kernelspec": {
   "display_name": "Python 3 (ipykernel)",
   "language": "python",
   "name": "python3"
  },
  "language_info": {
   "codemirror_mode": {
    "name": "ipython",
    "version": 3
   },
   "file_extension": ".py",
   "mimetype": "text/x-python",
   "name": "python",
   "nbconvert_exporter": "python",
   "pygments_lexer": "ipython3",
   "version": "3.11.0"
  }
 },
 "nbformat": 4,
 "nbformat_minor": 5
}
