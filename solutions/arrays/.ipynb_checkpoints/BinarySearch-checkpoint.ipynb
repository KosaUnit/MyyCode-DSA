{
 "cells": [
  {
   "cell_type": "markdown",
   "id": "de90b12d-894e-4294-926e-55d8fc0b1d38",
   "metadata": {},
   "source": [
    "# Binary Search\n",
    "\n",
    "- Provides efficient way to find a target value within a sorted array.\n",
    "- It repeatedly divides the search interval in half, which makes it far faster than a linear search for large datasets.\n",
    "\n",
    "Receipe:\n",
    "1. Prerequisite: The array must be sorted.\n",
    "2. Concept: We have two pointers, left and right, which represent the current search range.\n",
    "3. Midpoint Calculation: Calculate the middle index of the current range.\n",
    "4. Comparison:\n",
    "- If the element at mid equals the target, we’ve found the element, and we can return the index.\n",
    "- If the element at mid is less than the target, we move left to mid + 1, narrowing the search to the right half.\n",
    "- If the element at mid is greater than the target, we move right to mid - 1, narrowing the search to the left half.\n",
    "5. End Condition: Repeat until left exceeds right. If we haven’t found the target by then, it means the target is not in the array."
   ]
  },
  {
   "cell_type": "code",
   "execution_count": 8,
   "id": "e0365d28-99a5-48eb-b040-dcdff0ae7372",
   "metadata": {},
   "outputs": [],
   "source": [
    "def binary_search(arr, target):\n",
    "    # the arr has to be sorte \n",
    "    left = 0\n",
    "    right = len(arr)-1\n",
    "    \n",
    "    while left<=right:  \n",
    "        mid = (right-left)//2 + left\n",
    "    \n",
    "        if target==arr[mid]:\n",
    "            return mid\n",
    "        elif target<arr[mid]:\n",
    "            right = mid - 1 \n",
    "        else:\n",
    "            left = mid + 1 \n",
    "\n",
    "        \n",
    "    return \"Not in the list\"    "
   ]
  },
  {
   "cell_type": "code",
   "execution_count": 7,
   "id": "0789d705-b8a8-4648-bfd3-54ebedf354e3",
   "metadata": {},
   "outputs": [
    {
     "name": "stdout",
     "output_type": "stream",
     "text": [
      "Not in the list\n"
     ]
    }
   ],
   "source": [
    "arr = [1, 3, 5, 7, 9, 11, 13]\n",
    "\n",
    "# print(binary_search(arr, 7))   # Output should be 3\n",
    "print(binary_search(arr, 10))  # Output should be -1 (not found)"
   ]
  },
  {
   "cell_type": "code",
   "execution_count": null,
   "id": "a551075f-3262-4768-819c-d390427615fd",
   "metadata": {},
   "outputs": [],
   "source": []
  }
 ],
 "metadata": {
  "kernelspec": {
   "display_name": "Python 3 (ipykernel)",
   "language": "python",
   "name": "python3"
  },
  "language_info": {
   "codemirror_mode": {
    "name": "ipython",
    "version": 3
   },
   "file_extension": ".py",
   "mimetype": "text/x-python",
   "name": "python",
   "nbconvert_exporter": "python",
   "pygments_lexer": "ipython3",
   "version": "3.11.0"
  }
 },
 "nbformat": 4,
 "nbformat_minor": 5
}
